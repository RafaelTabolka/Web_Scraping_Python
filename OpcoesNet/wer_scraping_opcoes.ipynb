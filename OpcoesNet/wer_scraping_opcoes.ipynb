{
 "cells": [
  {
   "cell_type": "code",
   "execution_count": 10,
   "metadata": {},
   "outputs": [],
   "source": [
    "import pandas as pd\n",
    "import openpyxl\n",
    "import requests\n"
   ]
  },
  {
   "cell_type": "code",
   "execution_count": 11,
   "metadata": {},
   "outputs": [],
   "source": [
    "\n",
    "def ListarOpcoes(ticker, vencimento):    \n",
    "    url = f'https://opcoes.net.br/listaopcoes/completa?cache={vencimento}_16h1&au=False&uinhc=0&idLista=ML&idAcao={ticker}&listarVencimentos=true&cotacoes=true'\n",
    "    r = requests.get(url).json()\n",
    "    l = [[ticker, vencimento, i[0].split('_')[0], i[2], i[3], i[5], i[8]] for i in r['data']['cotacoesOpcoes']]\n",
    "    return pd.DataFrame(l, columns= ['ticker', 'vencimento', 'ativo', 'tipo', 'modelo', 'strike', 'preco'])"
   ]
  },
  {
   "cell_type": "code",
   "execution_count": 12,
   "metadata": {},
   "outputs": [],
   "source": [
    "def ListarTudo(ativoObj):\n",
    "    url = f'https://opcoes.net.br/listaopcoes/completa?cache=2023-5-22_16h1&au=False&uinhc=0&idLista=ML&idAcao={ativoObj}&listarVencimentos=true&cotacoes=true'\n",
    "    r = requests.get(url).json()\n",
    "    vencimentos = [i ['value'] for i in r ['data']['vencimentos']]\n",
    "    df = pd.concat([ListarOpcoes(ativoObj, vencimento) for vencimento in vencimentos])\n",
    "    return df"
   ]
  },
  {
   "cell_type": "code",
   "execution_count": 16,
   "metadata": {},
   "outputs": [],
   "source": [
    "import pandas as pd\n",
    "from openpyxl.styles import NamedStyle\n",
    "from openpyxl import load_workbook\n",
    "import datetime\n",
    "\n",
    "dados = ListarTudo(\"PETR4\")\n",
    "allDados = pd.DataFrame(dados)\n",
    "\n",
    "allDados.to_excel(\"Arquivo.xlsx\",index = False)\n",
    "\n",
    "tabela = load_workbook(\"Arquivo.xlsx\")\n",
    "tabelaAtiva = tabela.active\n",
    "\n",
    "dateStyle = NamedStyle(name='vencimento',number_format='DD/MM/YYYY')\n",
    "\n",
    "for i in range(2, tabelaAtiva.max_row + 1):\n",
    "    target = f'B{i}'\n",
    "\n",
    "    value = datetime.datetime.strptime(\n",
    "        f'{tabelaAtiva[target].value}', r'%Y-%m-%d')\n",
    "    tabelaAtiva[target].value = value\n",
    "    tabelaAtiva[target].style = dateStyle\n",
    "\n",
    "tabela.save(\"Arquivo.xlxs\")\n",
    "\n",
    "tabela.close()\n",
    "\n",
    "\n",
    "\n",
    "\n",
    "\n",
    "\n",
    "\n",
    "\n",
    "\n",
    "\n"
   ]
  }
 ],
 "metadata": {
  "kernelspec": {
   "display_name": "Python 3",
   "language": "python",
   "name": "python3"
  },
  "language_info": {
   "codemirror_mode": {
    "name": "ipython",
    "version": 3
   },
   "file_extension": ".py",
   "mimetype": "text/x-python",
   "name": "python",
   "nbconvert_exporter": "python",
   "pygments_lexer": "ipython3",
   "version": "3.11.3"
  },
  "orig_nbformat": 4
 },
 "nbformat": 4,
 "nbformat_minor": 2
}
